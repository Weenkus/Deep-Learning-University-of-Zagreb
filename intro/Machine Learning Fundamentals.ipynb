{
 "cells": [
  {
   "cell_type": "markdown",
   "metadata": {},
   "source": [
    "# Logistic regression and gradient descent basics"
   ]
  },
  {
   "cell_type": "code",
   "execution_count": 1,
   "metadata": {
    "collapsed": true
   },
   "outputs": [],
   "source": [
    "import sympy"
   ]
  },
  {
   "cell_type": "markdown",
   "metadata": {},
   "source": [
    "### Define variables and functions"
   ]
  },
  {
   "cell_type": "code",
   "execution_count": 2,
   "metadata": {
    "collapsed": true
   },
   "outputs": [],
   "source": [
    "x0,x1,x2 = sympy.var('x0,x1,x2')\n",
    "\n",
    "f = sympy.Matrix([x0**2+x1*x2, x0+x1+x2])\n",
    "g = sympy.Matrix([sympy.sin(x0), x1**3+x0*x1, x2])"
   ]
  },
  {
   "cell_type": "markdown",
   "metadata": {},
   "source": [
    "### Map function g on parameters of function f"
   ]
  },
  {
   "cell_type": "code",
   "execution_count": 3,
   "metadata": {
    "collapsed": true
   },
   "outputs": [],
   "source": [
    "substitution_fg = {'x0':g[0], 'x1':g[1], 'x2':g[2]}"
   ]
  },
  {
   "cell_type": "markdown",
   "metadata": {
    "collapsed": true
   },
   "source": [
    "### Function compozition fog = f(g(x))"
   ]
  },
  {
   "cell_type": "code",
   "execution_count": 4,
   "metadata": {
    "collapsed": true
   },
   "outputs": [],
   "source": [
    "fog = f.subs(substitution_fg)"
   ]
  },
  {
   "cell_type": "markdown",
   "metadata": {},
   "source": [
    "### Direct Jacobian matrix"
   ]
  },
  {
   "cell_type": "code",
   "execution_count": 5,
   "metadata": {
    "collapsed": false
   },
   "outputs": [
    {
     "name": "stdout",
     "output_type": "stream",
     "text": [
      "⎡                      ⎛         2⎞     ⎛       2⎞⎤\n",
      "⎢x₁⋅x₂ + sin(2⋅x₀)  x₂⋅⎝x₀ + 3⋅x₁ ⎠  x₁⋅⎝x₀ + x₁ ⎠⎥\n",
      "⎢                                                 ⎥\n",
      "⎢                              2                  ⎥\n",
      "⎣  x₁ + cos(x₀)       x₀ + 3⋅x₁            1      ⎦\n"
     ]
    }
   ],
   "source": [
    "Jfog = fog.jacobian([x0,x1,x2])\n",
    "Jfog.simplify()\n",
    "sympy.pprint(Jfog)"
   ]
  },
  {
   "cell_type": "markdown",
   "metadata": {},
   "source": [
    "### Jacobian of each function"
   ]
  },
  {
   "cell_type": "code",
   "execution_count": 6,
   "metadata": {
    "collapsed": true
   },
   "outputs": [],
   "source": [
    "Jf = f.jacobian([x0,x1,x2])\n",
    "Jg = g.jacobian([x0,x1,x2])"
   ]
  },
  {
   "cell_type": "markdown",
   "metadata": {},
   "source": [
    "### Rule of chaining"
   ]
  },
  {
   "cell_type": "code",
   "execution_count": 7,
   "metadata": {
    "collapsed": false
   },
   "outputs": [
    {
     "name": "stdout",
     "output_type": "stream",
     "text": [
      "⎡                      ⎛         2⎞     ⎛       2⎞⎤\n",
      "⎢x₁⋅x₂ + sin(2⋅x₀)  x₂⋅⎝x₀ + 3⋅x₁ ⎠  x₁⋅⎝x₀ + x₁ ⎠⎥\n",
      "⎢                                                 ⎥\n",
      "⎢                              2                  ⎥\n",
      "⎣  x₁ + cos(x₀)       x₀ + 3⋅x₁            1      ⎦\n"
     ]
    }
   ],
   "source": [
    "Jfog2 = Jf.subs(substitution_fg)*Jg\n",
    "Jfog2.simplify()\n",
    "sympy.pprint(Jfog2)"
   ]
  },
  {
   "cell_type": "markdown",
   "metadata": {
    "collapsed": false
   },
   "source": [
    "### Hessian matrix"
   ]
  },
  {
   "cell_type": "code",
   "execution_count": 8,
   "metadata": {
    "collapsed": false
   },
   "outputs": [
    {
     "name": "stdout",
     "output_type": "stream",
     "text": [
      "⎡2  0  0⎤\n",
      "⎢       ⎥\n",
      "⎢0  0  1⎥\n",
      "⎢       ⎥\n",
      "⎣0  1  0⎦\n"
     ]
    }
   ],
   "source": [
    "f0 = sympy.Matrix([f[0]])\n",
    "Jf0 = f0.jacobian([x0,x1,x2])\n",
    "\n",
    "H = Jf0.jacobian([x0,x1,x2])\n",
    "sympy.pprint(H)"
   ]
  },
  {
   "cell_type": "markdown",
   "metadata": {},
   "source": [
    "## Class Random2DGaussian"
   ]
  },
  {
   "cell_type": "code",
   "execution_count": 9,
   "metadata": {
    "collapsed": false
   },
   "outputs": [
    {
     "name": "stdout",
     "output_type": "stream",
     "text": [
      "Populating the interactive namespace from numpy and matplotlib\n"
     ]
    },
    {
     "name": "stderr",
     "output_type": "stream",
     "text": [
      "WARNING: pylab import has clobbered these variables: ['f']\n",
      "`%matplotlib` prevents importing * from pylab and numpy\n"
     ]
    }
   ],
   "source": [
    "import numpy as np\n",
    "import matplotlib.pyplot as plt\n",
    "%pylab inline"
   ]
  },
  {
   "cell_type": "code",
   "execution_count": 10,
   "metadata": {
    "collapsed": false
   },
   "outputs": [],
   "source": [
    "class Random2DGaussian():\n",
    "    np.random.seed(100)\n",
    "    \n",
    "    def __init__(self):\n",
    "        self.min_x = 0\n",
    "        self.max_x = 10\n",
    "        self.min_y = 0\n",
    "        self.max_y = 10\n",
    "        \n",
    "        centar_x = np.random.random_sample()\n",
    "        centar_y = np.random.random_sample()\n",
    "        self.mean = np.array([centar_x, centar_y])\n",
    "        \n",
    "        eigval_x = (np.random.random_sample()*(self.max_x - self.min_x)/5)**2\n",
    "        eigval_y = (np.random.random_sample()*(self.max_y - self.min_y)/5)**2\n",
    "        \n",
    "        D = np.array([[eigval_x, 0], [0, eigval_y]])\n",
    "        R = np.array([[45, 0], [0, 45]])\n",
    "        \n",
    "        self.covariance_matrix = R.T * D * R\n",
    "    \n",
    "    def get_sample(self, n):\n",
    "        assert(n > 0)\n",
    "\n",
    "        print 'Mean:\\n', self.mean\n",
    "        print '\\nCovariance matrix:\\n', self.covariance_matrix\n",
    "        \n",
    "        x, y = np.random.multivariate_normal(self.mean, self.covariance_matrix, size=n).T\n",
    "        return np.column_stack((x, y))"
   ]
  },
  {
   "cell_type": "code",
   "execution_count": 11,
   "metadata": {
    "collapsed": false
   },
   "outputs": [
    {
     "name": "stdout",
     "output_type": "stream",
     "text": [
      "Mean:\n",
      "[ 0.54340494  0.27836939]\n",
      "\n",
      "Covariance matrix:\n",
      "[[ 1459.74299733     0.        ]\n",
      " [    0.          5780.53838127]]\n"
     ]
    },
    {
     "data": {
      "image/png": "[encoded data removed]",
      "text/plain": [
       "<matplotlib.figure.Figure at 0x7faf1d15f790>"
      ]
     },
     "metadata": {},
     "output_type": "display_data"
    }
   ],
   "source": [
    "G = Random2DGaussian()\n",
    "X = G.get_sample(1000)\n",
    "plt.scatter(X[:,0], X[:,1])\n",
    "plt.show()"
   ]
  },
  {
   "cell_type": "code",
   "execution_count": null,
   "metadata": {
    "collapsed": true
   },
   "outputs": [],
   "source": []
  },
  {
   "cell_type": "code",
   "execution_count": null,
   "metadata": {
    "collapsed": true
   },
   "outputs": [],
   "source": []
  }
 ],
 "metadata": {
  "kernelspec": {
   "display_name": "Python 2",
   "language": "python",
   "name": "python2"
  },
  "language_info": {
   "codemirror_mode": {
    "name": "ipython",
    "version": 2
   },
   "file_extension": ".py",
   "mimetype": "text/x-python",
   "name": "python",
   "nbconvert_exporter": "python",
   "pygments_lexer": "ipython2",
   "version": "2.7.11"
  }
 },
 "nbformat": 4,
 "nbformat_minor": 0
}
