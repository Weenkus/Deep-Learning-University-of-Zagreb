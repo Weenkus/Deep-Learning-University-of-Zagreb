{
 "cells": [
  {
   "cell_type": "markdown",
   "metadata": {},
   "source": [
    "# Logistic regression and gradient descent basics"
   ]
  },
  {
   "cell_type": "code",
   "execution_count": 2,
   "metadata": {},
   "outputs": [],
   "source": [
    "import sympy"
   ]
  },
  {
   "cell_type": "markdown",
   "metadata": {},
   "source": [
    "### Define variables and functions"
   ]
  },
  {
   "cell_type": "code",
   "execution_count": 4,
   "metadata": {},
   "outputs": [],
   "source": [
    "x0,x1,x2 = sympy.var('x0,x1,x2')\n",
    "\n",
    "f = sympy.Matrix([x0**2+x1*x2, x0+x1+x2])\n",
    "g = sympy.Matrix([sympy.sin(x0), x1**3+x0*x1, x2])"
   ]
  },
  {
   "cell_type": "markdown",
   "metadata": {},
   "source": [
    "### Map function g on parameters of function f"
   ]
  },
  {
   "cell_type": "code",
   "execution_count": 5,
   "metadata": {},
   "outputs": [],
   "source": [
    "substitution_fg = {'x0':g[0], 'x1':g[1], 'x2':g[2]}"
   ]
  },
  {
   "cell_type": "markdown",
   "metadata": {},
   "source": [
    "### Function compozition fog = f(g(x))"
   ]
  },
  {
   "cell_type": "code",
   "execution_count": 6,
   "metadata": {},
   "outputs": [],
   "source": [
    "fog = f.subs(substitution_fg)"
   ]
  },
  {
   "cell_type": "markdown",
   "metadata": {},
   "source": [
    "### Direct Jacobian matrix"
   ]
  },
  {
   "cell_type": "code",
   "execution_count": 7,
   "metadata": {},
   "outputs": [
    {
     "name": "stdout",
     "output_type": "stream",
     "text": [
      "⎡                      ⎛         2⎞     ⎛       2⎞⎤\n⎢x₁⋅x₂ + sin(2⋅x₀)  x₂⋅⎝x₀ + 3⋅x₁ ⎠  x₁⋅⎝x₀ + x₁ ⎠⎥\n⎢                                                 ⎥\n⎢                              2                  ⎥\n⎣  x₁ + cos(x₀)       x₀ + 3⋅x₁            1      ⎦\n"
     ]
    }
   ],
   "source": [
    "Jfog = fog.jacobian([x0,x1,x2])\n",
    "Jfog.simplify()\n",
    "sympy.pprint(Jfog)"
   ]
  },
  {
   "cell_type": "markdown",
   "metadata": {},
   "source": [
    "### Jacobian of each function"
   ]
  },
  {
   "cell_type": "code",
   "execution_count": 8,
   "metadata": {},
   "outputs": [],
   "source": [
    "Jf = f.jacobian([x0,x1,x2])\n",
    "Jg = g.jacobian([x0,x1,x2])"
   ]
  },
  {
   "cell_type": "markdown",
   "metadata": {},
   "source": [
    "### Rule of chaining"
   ]
  },
  {
   "cell_type": "code",
   "execution_count": 9,
   "metadata": {},
   "outputs": [
    {
     "name": "stdout",
     "output_type": "stream",
     "text": [
      "⎡                      ⎛         2⎞     ⎛       2⎞⎤\n⎢x₁⋅x₂ + sin(2⋅x₀)  x₂⋅⎝x₀ + 3⋅x₁ ⎠  x₁⋅⎝x₀ + x₁ ⎠⎥\n⎢                                                 ⎥\n⎢                              2                  ⎥\n⎣  x₁ + cos(x₀)       x₀ + 3⋅x₁            1      ⎦\n"
     ]
    }
   ],
   "source": [
    "Jfog2 = Jf.subs(substitution_fg)*Jg\n",
    "Jfog2.simplify()\n",
    "sympy.pprint(Jfog2)"
   ]
  },
  {
   "cell_type": "markdown",
   "metadata": {},
   "source": [
    "### Hessian matrix"
   ]
  },
  {
   "cell_type": "code",
   "execution_count": 10,
   "metadata": {},
   "outputs": [
    {
     "name": "stdout",
     "output_type": "stream",
     "text": [
      "⎡2  0  0⎤\n⎢       ⎥\n⎢0  0  1⎥\n⎢       ⎥\n⎣0  1  0⎦\n"
     ]
    }
   ],
   "source": [
    "f0 = sympy.Matrix([f[0]])\n",
    "Jf0 = f0.jacobian([x0,x1,x2])\n",
    "\n",
    "H = Jf0.jacobian([x0,x1,x2])\n",
    "sympy.pprint(H)"
   ]
  },
  {
   "cell_type": "markdown",
   "metadata": {},
   "source": [
    "## Class Random2DGaussian"
   ]
  },
  {
   "cell_type": "code",
   "execution_count": 11,
   "metadata": {},
   "outputs": [
    {
     "name": "stdout",
     "output_type": "stream",
     "text": [
      "Populating the interactive namespace from numpy and matplotlib\n"
     ]
    },
    {
     "name": "stderr",
     "output_type": "stream",
     "text": [
      "WARNING: pylab import has clobbered these variables: ['f']\n`%matplotlib` prevents importing * from pylab and numpy\n"
     ]
    }
   ],
   "source": [
    "import numpy as np\n",
    "import matplotlib.pyplot as plt\n",
    "from sklearn.metrics import accuracy_score, recall_score, precision_score, average_precision_score\n",
    "%pylab inline"
   ]
  },
  {
   "cell_type": "code",
   "execution_count": 12,
   "metadata": {},
   "outputs": [],
   "source": [
    "class Random2DGaussian():\n",
    "    np.random.seed(100)\n",
    "    \n",
    "    def __init__(self):\n",
    "        self.min_x = 0\n",
    "        self.max_x = 10\n",
    "        self.min_y = 0\n",
    "        self.max_y = 10\n",
    "        \n",
    "        centar_x = np.random.random_sample()\n",
    "        centar_y = np.random.random_sample()\n",
    "        self.mean = np.array([centar_x, centar_y])\n",
    "        \n",
    "        eigval_x = (np.random.random_sample()*(self.max_x - self.min_x)/5)**2\n",
    "        eigval_y = (np.random.random_sample()*(self.max_y - self.min_y)/5)**2\n",
    "        \n",
    "        D = np.array([[eigval_x, 0], [0, eigval_y]])\n",
    "        R = np.array([[45, 0], [0, 45]])\n",
    "        \n",
    "        self.covariance_matrix = R.T * D * R\n",
    "    \n",
    "    def get_sample(self, n, show=False):\n",
    "        assert(n > 0)\n",
    "\n",
    "        if show:\n",
    "            print ('Mean:\\n', self.mean)\n",
    "            print ('\\nCovariance matrix:\\n', self.covariance_matrix)\n",
    "        \n",
    "        x, y = np.random.multivariate_normal(self.mean, self.covariance_matrix, size=n).T\n",
    "        return np.column_stack((x, y))"
   ]
  },
  {
   "cell_type": "code",
   "execution_count": 13,
   "metadata": {},
   "outputs": [
    {
     "data": {
      "image/png": "[encoded data removed]"
     },
     "output_type": "display_data",
     "text": [
      "<matplotlib.figure.Figure at 0x7f99a4f7c898>"
     ],
     "metadata": {}
    }
   ],
   "source": [
    "G = Random2DGaussian()\n",
    "X = G.get_sample(100)\n",
    "plt.scatter(X[:,0], X[:,1])\n",
    "plt.show()"
   ]
  },
  {
   "cell_type": "code",
   "execution_count": 20,
   "metadata": {},
   "outputs": [],
   "source": [
    "'''\n",
    "Argumenti\n",
    "  X:  podatci, np.array Nx2\n",
    "  Y_: indeksi razreda, np.array Nx1\n",
    "\n",
    "Povratne vrijednosti\n",
    "  w, b: parametri logističke regresije\n",
    "'''\n",
    "def binlogreg_train(X,Y_):\n",
    "    b = 0\n",
    "    w = np.random.randn(2)\n",
    "    \n",
    "    # HYPERPARAMETERS\n",
    "    param_niter = 50\n",
    "    param_delta = 0.1\n",
    "    \n",
    "    # gradijentni spust (param_niter iteracija)\n",
    "    for i in range(param_niter):\n",
    "        # klasifikacijski rezultati\n",
    "        scores = np.dot(X, w) + b\n",
    "        #print 'Scores', scores\n",
    "\n",
    "        # vjerojatnosti razreda c_1\n",
    "        probs = float(1) / (1 + np.exp(-scores))\n",
    "        #probs = np.exp(scores) / (1 + np.exp(scores))\n",
    "        #print 'probs', probs\n",
    "\n",
    "        # gubitak\n",
    "        loss  = np.sum(-np.log(probs))\n",
    "\n",
    "        # dijagnosticki ispis\n",
    "        if i % 10 == 0:\n",
    "            print(\"iteration {}: loss {}\".format(i, loss))\n",
    "\n",
    "        # derivacije gubitka po klasifikacijskom rezultatu\n",
    "        dL_dscores = scores - probs\n",
    "        #print 'dL_dscores', dL_dscores\n",
    "\n",
    "        # gradijenti parametara\n",
    "        grad_w = np.dot(dL_dscores, X)\n",
    "        grad_b = np.sum(dL_dscores)\n",
    "        #print 'grad_w', grad_w\n",
    "        #print 'grad_b', grad_b\n",
    "\n",
    "        # poboljšani parametri\n",
    "        w += -param_delta * grad_w\n",
    "        b += -param_delta * grad_b\n",
    "\n",
    "    return w, b"
   ]
  },
  {
   "cell_type": "code",
   "execution_count": 21,
   "metadata": {},
   "outputs": [],
   "source": [
    "'''\n",
    "  Argumenti\n",
    "      X:    podatci, np.array Nx2\n",
    "      w, b: parametri logističke regresije\n",
    "\n",
    "  Povratne vrijednosti\n",
    "      probs: vjerojatnosti razreda c1\n",
    "'''\n",
    "def binlogreg_classify(X, w, b):\n",
    "    pred_prob = np.dot(w, X.T) + b\n",
    "    probs = np.where(pred_prob >= .5, 1, 0)\n",
    "    return probs"
   ]
  },
  {
   "cell_type": "code",
   "execution_count": 22,
   "metadata": {},
   "outputs": [],
   "source": [
    "def sample_gauss_2d(C, N):\n",
    "    G = Random2DGaussian()\n",
    "    Y_ = np.random.choice([0, 1], size=(N,), p=[1./2, 1./2])\n",
    "    return G.get_sample(N), Y_"
   ]
  },
  {
   "cell_type": "code",
   "execution_count": 23,
   "metadata": {},
   "outputs": [],
   "source": [
    "def eval_perf_binary(Y, Y_):\n",
    "    return accuracy_score(Y, Y_), recall_score(Y, Y_), precision_score(Y, Y_)"
   ]
  },
  {
   "cell_type": "code",
   "execution_count": 25,
   "metadata": {},
   "outputs": [
    {
     "name": "stdout",
     "output_type": "stream",
     "text": [
      "0.5\n0.5\n0.5\n0.5\n"
     ]
    }
   ],
   "source": [
    "def eval_AP(Y_sorted):\n",
    "    return 0.5\n",
    "    \n",
    "print (eval_AP([0,0,0,1,1,1]))\n",
    "#1.0\n",
    "print (eval_AP([0,0,1,0,1,1]))\n",
    "#0.9166666666666666\n",
    "print (eval_AP([0,1,0,1,0,1]))\n",
    "#0.7555555555555555\n",
    "print (eval_AP([1,0,1,0,1,0]))\n",
    "#0.5"
   ]
  },
  {
   "cell_type": "code",
   "execution_count": 27,
   "metadata": {},
   "outputs": [
    {
     "name": "stdout",
     "output_type": "stream",
     "text": [
      "iteration 0: loss 3249.6326693408014\niteration 10: loss inf\niteration 20: loss inf\niteration 30: loss inf\niteration 40: loss inf\n0.56 0.545454545455 0.5 0.5\n"
     ]
    },
    {
     "name": "stderr",
     "output_type": "stream",
     "text": [
      "/home/weenkus/anaconda3/lib/python3.5/site-packages/ipykernel/__main__.py:24: RuntimeWarning: overflow encountered in exp\n/home/weenkus/anaconda3/lib/python3.5/site-packages/ipykernel/__main__.py:29: RuntimeWarning: divide by zero encountered in log\n"
     ]
    }
   ],
   "source": [
    "np.random.seed(100)\n",
    "\n",
    "# get the training dataset\n",
    "X,Y_ = sample_gauss_2d(2, 100)\n",
    "\n",
    "# train the model\n",
    "w,b = binlogreg_train(X, Y_)\n",
    "\n",
    "# evaluate the model on the training dataset\n",
    "probs = binlogreg_classify(X, w,b)\n",
    "Y = np.where(probs >= .5, 1, 0)\n",
    "\n",
    "# report performance\n",
    "accuracy, recall, precision = eval_perf_binary(Y, Y_)\n",
    "AP = eval_AP(Y_[probs.argsort()])\n",
    "\n",
    "print (accuracy, recall, precision, AP)"
   ]
  },
  {
   "cell_type": "code",
   "execution_count": 20,
   "metadata": {},
   "outputs": [],
   "source": [
    ""
   ]
  },
  {
   "cell_type": "code",
   "execution_count": 28,
   "metadata": {},
   "outputs": [
    {
     "name": "stdout",
     "output_type": "stream",
     "text": [
      "[[ 22.  28.]\n [ 49.  64.]]\n"
     ]
    }
   ],
   "source": [
    ""
   ]
  },
  {
   "cell_type": "code",
   "execution_count": null,
   "metadata": {},
   "outputs": [],
   "source": [
    "import tensorflow as tf\n",
    "# oblikovanje računskog grafa\n",
    "# Creates a graph.\n",
    "a = tf.constant([1.0, 2.0, 3.0, 4.0, 5.0, 6.0], shape=[2, 3], name='a')\n",
    "b = tf.constant([1.0, 2.0, 3.0, 4.0, 5.0, 6.0], shape=[3, 2], name='b')\n",
    "c = tf.matmul(a, b)\n",
    "# Creates a session with log_device_placement set to True.\n",
    "sess = tf.Session(config=tf.ConfigProto(log_device_placement=True))\n",
    "# Runs the op.\n",
    "print (sess.run(c))"
   ]
  },
  {
   "cell_type": "code",
   "execution_count": null,
   "metadata": {},
   "outputs": [],
   "source": [
    ""
   ]
  }
 ],
 "metadata": {
  "kernelspec": {
   "display_name": "Python 2",
   "language": "python",
   "name": "python2"
  },
  "language_info": {
   "codemirror_mode": {
    "name": "ipython",
    "version": 2.0
   },
   "file_extension": ".py",
   "mimetype": "text/x-python",
   "name": "python",
   "nbconvert_exporter": "python",
   "pygments_lexer": "ipython2",
   "version": "2.7.12"
  }
 },
 "nbformat": 4,
 "nbformat_minor": 0
}