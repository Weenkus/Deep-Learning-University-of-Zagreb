{
 "cells": [
  {
   "cell_type": "markdown",
   "metadata": {},
   "source": [
    "# Logistic regression and gradient descent basics"
   ]
  },
  {
   "cell_type": "code",
   "execution_count": 1,
   "metadata": {
    "collapsed": true
   },
   "outputs": [],
   "source": [
    "import sympy"
   ]
  },
  {
   "cell_type": "markdown",
   "metadata": {},
   "source": [
    "### Define variables and functions"
   ]
  },
  {
   "cell_type": "code",
   "execution_count": 2,
   "metadata": {
    "collapsed": true
   },
   "outputs": [],
   "source": [
    "x0,x1,x2 = sympy.var('x0,x1,x2')\n",
    "\n",
    "f = sympy.Matrix([x0**2+x1*x2, x0+x1+x2])\n",
    "g = sympy.Matrix([sympy.sin(x0), x1**3+x0*x1, x2])"
   ]
  },
  {
   "cell_type": "markdown",
   "metadata": {},
   "source": [
    "### Map function g on parameters of function f"
   ]
  },
  {
   "cell_type": "code",
   "execution_count": 3,
   "metadata": {
    "collapsed": true
   },
   "outputs": [],
   "source": [
    "substitution_fg = {'x0':g[0], 'x1':g[1], 'x2':g[2]}"
   ]
  },
  {
   "cell_type": "markdown",
   "metadata": {
    "collapsed": true
   },
   "source": [
    "### Function compozition fog = f(g(x))"
   ]
  },
  {
   "cell_type": "code",
   "execution_count": 4,
   "metadata": {
    "collapsed": true
   },
   "outputs": [],
   "source": [
    "fog = f.subs(substitution_fg)"
   ]
  },
  {
   "cell_type": "markdown",
   "metadata": {},
   "source": [
    "### Direct Jacobian matrix"
   ]
  },
  {
   "cell_type": "code",
   "execution_count": 5,
   "metadata": {
    "collapsed": false
   },
   "outputs": [
    {
     "name": "stdout",
     "output_type": "stream",
     "text": [
      "⎡                      ⎛         2⎞     ⎛       2⎞⎤\n",
      "⎢x₁⋅x₂ + sin(2⋅x₀)  x₂⋅⎝x₀ + 3⋅x₁ ⎠  x₁⋅⎝x₀ + x₁ ⎠⎥\n",
      "⎢                                                 ⎥\n",
      "⎢                              2                  ⎥\n",
      "⎣  x₁ + cos(x₀)       x₀ + 3⋅x₁            1      ⎦\n"
     ]
    }
   ],
   "source": [
    "Jfog = fog.jacobian([x0,x1,x2])\n",
    "Jfog.simplify()\n",
    "sympy.pprint(Jfog)"
   ]
  },
  {
   "cell_type": "markdown",
   "metadata": {},
   "source": [
    "### Jacobian of each function"
   ]
  },
  {
   "cell_type": "code",
   "execution_count": 6,
   "metadata": {
    "collapsed": true
   },
   "outputs": [],
   "source": [
    "Jf = f.jacobian([x0,x1,x2])\n",
    "Jg = g.jacobian([x0,x1,x2])"
   ]
  },
  {
   "cell_type": "markdown",
   "metadata": {},
   "source": [
    "### Rule of chaining"
   ]
  },
  {
   "cell_type": "code",
   "execution_count": 7,
   "metadata": {
    "collapsed": false
   },
   "outputs": [
    {
     "name": "stdout",
     "output_type": "stream",
     "text": [
      "⎡                      ⎛         2⎞     ⎛       2⎞⎤\n",
      "⎢x₁⋅x₂ + sin(2⋅x₀)  x₂⋅⎝x₀ + 3⋅x₁ ⎠  x₁⋅⎝x₀ + x₁ ⎠⎥\n",
      "⎢                                                 ⎥\n",
      "⎢                              2                  ⎥\n",
      "⎣  x₁ + cos(x₀)       x₀ + 3⋅x₁            1      ⎦\n"
     ]
    }
   ],
   "source": [
    "Jfog2 = Jf.subs(substitution_fg)*Jg\n",
    "Jfog2.simplify()\n",
    "sympy.pprint(Jfog2)"
   ]
  },
  {
   "cell_type": "markdown",
   "metadata": {
    "collapsed": false
   },
   "source": [
    "### Hessian matrix"
   ]
  },
  {
   "cell_type": "code",
   "execution_count": 8,
   "metadata": {
    "collapsed": false
   },
   "outputs": [
    {
     "name": "stdout",
     "output_type": "stream",
     "text": [
      "⎡2  0  0⎤\n",
      "⎢       ⎥\n",
      "⎢0  0  1⎥\n",
      "⎢       ⎥\n",
      "⎣0  1  0⎦\n"
     ]
    }
   ],
   "source": [
    "f0 = sympy.Matrix([f[0]])\n",
    "Jf0 = f0.jacobian([x0,x1,x2])\n",
    "\n",
    "H = Jf0.jacobian([x0,x1,x2])\n",
    "sympy.pprint(H)"
   ]
  },
  {
   "cell_type": "markdown",
   "metadata": {},
   "source": [
    "## Class Random2DGaussian"
   ]
  },
  {
   "cell_type": "code",
   "execution_count": 98,
   "metadata": {
    "collapsed": false
   },
   "outputs": [
    {
     "name": "stdout",
     "output_type": "stream",
     "text": [
      "Populating the interactive namespace from numpy and matplotlib\n"
     ]
    }
   ],
   "source": [
    "import numpy as np\n",
    "import matplotlib.pyplot as plt\n",
    "from sklearn.metrics import accuracy_score, recall_score, precision_score, average_precision_score\n",
    "%pylab inline"
   ]
  },
  {
   "cell_type": "code",
   "execution_count": 59,
   "metadata": {
    "collapsed": false
   },
   "outputs": [],
   "source": [
    "class Random2DGaussian():\n",
    "    np.random.seed(100)\n",
    "    \n",
    "    def __init__(self):\n",
    "        self.min_x = 0\n",
    "        self.max_x = 10\n",
    "        self.min_y = 0\n",
    "        self.max_y = 10\n",
    "        \n",
    "        centar_x = np.random.random_sample()\n",
    "        centar_y = np.random.random_sample()\n",
    "        self.mean = np.array([centar_x, centar_y])\n",
    "        \n",
    "        eigval_x = (np.random.random_sample()*(self.max_x - self.min_x)/5)**2\n",
    "        eigval_y = (np.random.random_sample()*(self.max_y - self.min_y)/5)**2\n",
    "        \n",
    "        D = np.array([[eigval_x, 0], [0, eigval_y]])\n",
    "        R = np.array([[45, 0], [0, 45]])\n",
    "        \n",
    "        self.covariance_matrix = R.T * D * R\n",
    "    \n",
    "    def get_sample(self, n, show=False):\n",
    "        assert(n > 0)\n",
    "\n",
    "        if show:\n",
    "            print 'Mean:\\n', self.mean\n",
    "            print '\\nCovariance matrix:\\n', self.covariance_matrix\n",
    "        \n",
    "        x, y = np.random.multivariate_normal(self.mean, self.covariance_matrix, size=n).T\n",
    "        return np.column_stack((x, y))"
   ]
  },
  {
   "cell_type": "code",
   "execution_count": 62,
   "metadata": {
    "collapsed": false
   },
   "outputs": [
    {
     "data": {
      "image/png": "[encoded data removed]",
      "text/plain": [
       "<matplotlib.figure.Figure at 0x7f6f39790e90>"
      ]
     },
     "metadata": {},
     "output_type": "display_data"
    }
   ],
   "source": [
    "G = Random2DGaussian()\n",
    "X = G.get_sample(100)\n",
    "plt.scatter(X[:,0], X[:,1])\n",
    "plt.show()"
   ]
  },
  {
   "cell_type": "code",
   "execution_count": 162,
   "metadata": {
    "collapsed": false
   },
   "outputs": [],
   "source": [
    "'''\n",
    "Argumenti\n",
    "  X:  podatci, np.array Nx2\n",
    "  Y_: indeksi razreda, np.array Nx1\n",
    "\n",
    "Povratne vrijednosti\n",
    "  w, b: parametri logističke regresije\n",
    "'''\n",
    "def binlogreg_train(X,Y_):\n",
    "    b = 0\n",
    "    w = np.random.randn(2)\n",
    "    \n",
    "    # HYPERPARAMETERS\n",
    "    param_niter = 1000\n",
    "    param_delta = 0.1\n",
    "    \n",
    "    # gradijentni spust (param_niter iteracija)\n",
    "    for i in range(param_niter):\n",
    "        # klasifikacijski rezultati\n",
    "        scores = np.dot(X, w) + b\n",
    "        #print 'Scores', scores\n",
    "\n",
    "        # vjerojatnosti razreda c_1\n",
    "        probs = float(1) / (1 + np.exp(-scores))\n",
    "        #probs = np.exp(scores) / (1 + np.exp(scores))\n",
    "        #print 'probs', probs\n",
    "\n",
    "        # gubitak\n",
    "        loss  = np.sum(-np.log(probs))\n",
    "#         step1 = Y_ * np.log(probs)\n",
    "#         step2 = (1-Y_) * np.log(1 - probs)\n",
    "#         final = -step1 - step2\n",
    "#         loss = np.mean(final)\n",
    "        #print 'loss', loss\n",
    "\n",
    "        # dijagnosticki ispis\n",
    "        if i % 10 == 0:\n",
    "            print(\"iteration {}: loss {}\".format(i, loss))\n",
    "\n",
    "        # derivacije gubitka po klasifikacijskom rezultatu\n",
    "        dL_dscores = scores - probs\n",
    "        #print 'dL_dscores', dL_dscores\n",
    "\n",
    "        # gradijenti parametara\n",
    "        grad_w = np.dot(dL_dscores, X)\n",
    "        grad_b = np.sum(dL_dscores)\n",
    "        #print 'grad_w', grad_w\n",
    "        #print 'grad_b', grad_b\n",
    "\n",
    "        # poboljšani parametri\n",
    "        w += -param_delta * grad_w\n",
    "        b += -param_delta * grad_b\n",
    "\n",
    "    return w, b"
   ]
  },
  {
   "cell_type": "code",
   "execution_count": 163,
   "metadata": {
    "collapsed": false
   },
   "outputs": [],
   "source": [
    "'''\n",
    "  Argumenti\n",
    "      X:    podatci, np.array Nx2\n",
    "      w, b: parametri logističke regresije\n",
    "\n",
    "  Povratne vrijednosti\n",
    "      probs: vjerojatnosti razreda c1\n",
    "'''\n",
    "def binlogreg_classify(X, w, b):\n",
    "    pred_prob = np.dot(w, X.T) + b\n",
    "    probs = np.where(pred_prob >= .5, 1, 0)\n",
    "    return probs"
   ]
  },
  {
   "cell_type": "code",
   "execution_count": 164,
   "metadata": {
    "collapsed": true
   },
   "outputs": [],
   "source": [
    "def sample_gauss_2d(C, N):\n",
    "    G = Random2DGaussian()\n",
    "    Y_ = np.random.choice([0, 1], size=(N,), p=[1./2, 1./2])\n",
    "    return G.get_sample(N), Y_"
   ]
  },
  {
   "cell_type": "code",
   "execution_count": 165,
   "metadata": {
    "collapsed": false
   },
   "outputs": [],
   "source": [
    "def eval_perf_binary(Y, Y_):\n",
    "    return accuracy_score(Y, Y_), recall_score(Y, Y_), precision_score(Y, Y_)"
   ]
  },
  {
   "cell_type": "code",
   "execution_count": 166,
   "metadata": {
    "collapsed": false
   },
   "outputs": [
    {
     "name": "stdout",
     "output_type": "stream",
     "text": [
      "0.5\n",
      "0.5\n",
      "0.5\n",
      "0.5\n"
     ]
    }
   ],
   "source": [
    "def eval_AP(Y_sorted):\n",
    "    return 0.5\n",
    "    \n",
    "print eval_AP([0,0,0,1,1,1])\n",
    "#1.0\n",
    "print eval_AP([0,0,1,0,1,1])\n",
    "#0.9166666666666666\n",
    "print eval_AP([0,1,0,1,0,1])\n",
    "#0.7555555555555555\n",
    "print eval_AP([1,0,1,0,1,0])\n",
    "#0.5"
   ]
  },
  {
   "cell_type": "code",
   "execution_count": 167,
   "metadata": {
    "collapsed": false
   },
   "outputs": [
    {
     "name": "stdout",
     "output_type": "stream",
     "text": [
      "iteration 0: loss 3249.63266934\n",
      "iteration 10: loss inf\n",
      "iteration 20: loss inf\n",
      "iteration 30: loss inf\n",
      "iteration 40: loss inf\n",
      "iteration 50: loss inf\n",
      "iteration 60: loss inf\n",
      "iteration 70: loss nan\n",
      "iteration 80: loss nan\n",
      "iteration 90: loss nan\n",
      "iteration 100: loss nan\n",
      "iteration 110: loss nan\n",
      "iteration 120: loss nan\n",
      "iteration 130: loss nan\n",
      "iteration 140: loss nan\n",
      "iteration 150: loss nan\n",
      "iteration 160: loss nan\n",
      "iteration 170: loss nan\n",
      "iteration 180: loss nan\n",
      "iteration 190: loss nan\n",
      "iteration 200: loss nan\n",
      "iteration 210: loss nan\n",
      "iteration 220: loss nan\n",
      "iteration 230: loss nan\n",
      "iteration 240: loss nan\n",
      "iteration 250: loss nan\n",
      "iteration 260: loss nan\n",
      "iteration 270: loss nan\n",
      "iteration 280: loss nan\n",
      "iteration 290: loss nan\n",
      "iteration 300: loss nan\n",
      "iteration 310: loss nan\n",
      "iteration 320: loss nan\n",
      "iteration 330: loss nan\n",
      "iteration 340: loss nan\n",
      "iteration 350: loss nan\n",
      "iteration 360: loss nan\n",
      "iteration 370: loss nan\n",
      "iteration 380: loss nan\n",
      "iteration 390: loss nan\n",
      "iteration 400: loss nan\n",
      "iteration 410: loss nan\n",
      "iteration 420: loss nan\n",
      "iteration 430: loss nan\n",
      "iteration 440: loss nan\n",
      "iteration 450: loss nan\n",
      "iteration 460: loss nan\n",
      "iteration 470: loss nan\n",
      "iteration 480: loss nan\n",
      "iteration 490: loss nan\n",
      "iteration 500: loss nan\n",
      "iteration 510: loss nan\n",
      "iteration 520: loss nan\n",
      "iteration 530: loss nan\n",
      "iteration 540: loss nan\n",
      "iteration 550: loss nan\n",
      "iteration 560: loss nan\n",
      "iteration 570: loss nan\n",
      "iteration 580: loss nan\n",
      "iteration 590: loss nan\n",
      "iteration 600: loss nan\n",
      "iteration 610: loss nan\n",
      "iteration 620: loss nan\n",
      "iteration 630: loss nan\n",
      "iteration 640: loss nan\n",
      "iteration 650: loss nan\n",
      "iteration 660: loss nan\n",
      "iteration 670: loss nan\n",
      "iteration 680: loss nan\n",
      "iteration 690: loss nan\n",
      "iteration 700: loss nan\n",
      "iteration 710: loss nan\n",
      "iteration 720: loss nan\n",
      "iteration 730: loss nan\n",
      "iteration 740: loss nan\n",
      "iteration 750: loss nan\n",
      "iteration 760: loss nan\n",
      "iteration 770: loss nan\n",
      "iteration 780: loss nan\n",
      "iteration 790: loss nan\n",
      "iteration 800: loss nan\n",
      "iteration 810: loss nan\n",
      "iteration 820: loss nan\n",
      "iteration 830: loss nan\n",
      "iteration 840: loss nan\n",
      "iteration 850: loss nan\n",
      "iteration 860: loss nan\n",
      "iteration 870: loss nan\n",
      "iteration 880: loss nan\n",
      "iteration 890: loss nan\n",
      "iteration 900: loss nan\n",
      "iteration 910: loss nan\n",
      "iteration 920: loss nan\n",
      "iteration 930: loss nan\n",
      "iteration 940: loss nan\n",
      "iteration 950: loss nan\n",
      "iteration 960: loss nan\n",
      "iteration 970: loss nan\n",
      "iteration 980: loss nan\n",
      "iteration 990: loss nan\n",
      "(0.52000000000000002, 0.0, 0.0, 0.5)\n"
     ]
    },
    {
     "name": "stderr",
     "output_type": "stream",
     "text": [
      "/home/weenkus/anaconda3/envs/py27/lib/python2.7/site-packages/ipykernel/__main__.py:24: RuntimeWarning: overflow encountered in exp\n",
      "/home/weenkus/anaconda3/envs/py27/lib/python2.7/site-packages/ipykernel/__main__.py:29: RuntimeWarning: divide by zero encountered in log\n",
      "/home/weenkus/anaconda3/envs/py27/lib/python2.7/site-packages/ipykernel/__main__.py:11: RuntimeWarning: invalid value encountered in greater_equal\n"
     ]
    }
   ],
   "source": [
    "np.random.seed(100)\n",
    "\n",
    "# get the training dataset\n",
    "X,Y_ = sample_gauss_2d(2, 100)\n",
    "\n",
    "# train the model\n",
    "w,b = binlogreg_train(X, Y_)\n",
    "\n",
    "# evaluate the model on the training dataset\n",
    "probs = binlogreg_classify(X, w,b)\n",
    "Y = np.where(probs >= .5, 1, 0)\n",
    "\n",
    "# report performance\n",
    "accuracy, recall, precision = eval_perf_binary(Y, Y_)\n",
    "AP = eval_AP(Y_[probs.argsort()])\n",
    "print (accuracy, recall, precision, AP)"
   ]
  },
  {
   "cell_type": "code",
   "execution_count": null,
   "metadata": {
    "collapsed": true
   },
   "outputs": [],
   "source": []
  },
  {
   "cell_type": "code",
   "execution_count": 168,
   "metadata": {
    "collapsed": false
   },
   "outputs": [
    {
     "ename": "ImportError",
     "evalue": "No module named Tensorflow",
     "output_type": "error",
     "traceback": [
      "\u001b[1;31m---------------------------------------------------------------------------\u001b[0m",
      "\u001b[1;31mImportError\u001b[0m                               Traceback (most recent call last)",
      "\u001b[1;32m<ipython-input-168-d6f8a66bb597>\u001b[0m in \u001b[0;36m<module>\u001b[1;34m()\u001b[0m\n\u001b[1;32m----> 1\u001b[1;33m \u001b[1;32mimport\u001b[0m \u001b[0mTensorflow\u001b[0m\u001b[1;33m\u001b[0m\u001b[0m\n\u001b[0m",
      "\u001b[1;31mImportError\u001b[0m: No module named Tensorflow"
     ]
    }
   ],
   "source": [
    "import Tensorflow"
   ]
  },
  {
   "cell_type": "code",
   "execution_count": null,
   "metadata": {
    "collapsed": true
   },
   "outputs": [],
   "source": []
  }
 ],
 "metadata": {
  "kernelspec": {
   "display_name": "Python 2",
   "language": "python",
   "name": "python2"
  },
  "language_info": {
   "codemirror_mode": {
    "name": "ipython",
    "version": 2
   },
   "file_extension": ".py",
   "mimetype": "text/x-python",
   "name": "python",
   "nbconvert_exporter": "python",
   "pygments_lexer": "ipython2",
   "version": "2.7.11"
  }
 },
 "nbformat": 4,
 "nbformat_minor": 0
}
